{
 "cells": [
  {
   "cell_type": "markdown",
   "id": "a958e284-692c-498f-a512-0b0e9cf1d2c3",
   "metadata": {},
   "source": [
    "# UNIVERSITÉ UCA\n",
    "## RAPPORT DE PROJET\n",
    "![Logo UCA](chemin/vers/le/logo.png)\n",
    "\n",
    "\n",
    "### Lab # 4 - Lab 4 Modèle Toy case SEIR multi-agent\n",
    "\n",
    "Fleury Guillaume & Veysseyre Thomas\n"
   ]
  },
  {
   "cell_type": "code",
   "execution_count": null,
   "id": "b1a10c3e-f2cc-4a77-a7ee-7bb3f3abe87f",
   "metadata": {
    "vscode": {
     "languageId": "java"
    }
   },
   "outputs": [],
   "source": []
  },
  {
   "cell_type": "code",
   "execution_count": null,
   "id": "62c76efb",
   "metadata": {
    "vscode": {
     "languageId": "java"
    }
   },
   "outputs": [],
   "source": []
  }
 ],
 "metadata": {
  "kernelspec": {
   "display_name": "Java",
   "language": "java",
   "name": "java"
  },
  "language_info": {
   "codemirror_mode": "java",
   "file_extension": ".jshell",
   "mimetype": "text/x-java-source",
   "name": "Java",
   "pygments_lexer": "java",
   "version": "11.0.22+7-post-Ubuntu-0ubuntu222.04.1"
  }
 },
 "nbformat": 4,
 "nbformat_minor": 5
}
